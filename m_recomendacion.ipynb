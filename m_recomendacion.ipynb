{
 "cells": [
  {
   "attachments": {},
   "cell_type": "markdown",
   "metadata": {},
   "source": [
    "# **Modelo de Recomendación**"
   ]
  },
  {
   "cell_type": "code",
   "execution_count": 1,
   "metadata": {},
   "outputs": [],
   "source": [
    "# Importando librerías necesarias\n",
    "import pandas as pd\n",
    "import matplotlib as plt\n",
    "\n",
    "%matplotlib inline\n",
    "\n",
    "# Utlizaremos el modelo SVD\n",
    "from surprise import Dataset, Reader, SVD\n",
    "from surprise.model_selection import train_test_split\n",
    "from surprise import accuracy"
   ]
  },
  {
   "cell_type": "code",
   "execution_count": 2,
   "metadata": {},
   "outputs": [],
   "source": [
    "# Generando los df\n",
    "df_t = pd.read_csv('datasets/full_titles.csv')\n",
    "\n"
   ]
  },
  {
   "cell_type": "code",
   "execution_count": 3,
   "metadata": {},
   "outputs": [
    {
     "data": {
      "text/html": [
       "<div>\n",
       "<style scoped>\n",
       "    .dataframe tbody tr th:only-of-type {\n",
       "        vertical-align: middle;\n",
       "    }\n",
       "\n",
       "    .dataframe tbody tr th {\n",
       "        vertical-align: top;\n",
       "    }\n",
       "\n",
       "    .dataframe thead th {\n",
       "        text-align: right;\n",
       "    }\n",
       "</style>\n",
       "<table border=\"1\" class=\"dataframe\">\n",
       "  <thead>\n",
       "    <tr style=\"text-align: right;\">\n",
       "      <th></th>\n",
       "      <th>id</th>\n",
       "      <th>type</th>\n",
       "      <th>title</th>\n",
       "      <th>director</th>\n",
       "      <th>cast</th>\n",
       "      <th>country</th>\n",
       "      <th>date_added</th>\n",
       "      <th>release_year</th>\n",
       "      <th>rating</th>\n",
       "      <th>duration_int</th>\n",
       "      <th>duration_type</th>\n",
       "      <th>listed_in</th>\n",
       "      <th>description</th>\n",
       "      <th>platform</th>\n",
       "      <th>score</th>\n",
       "    </tr>\n",
       "  </thead>\n",
       "  <tbody>\n",
       "    <tr>\n",
       "      <th>0</th>\n",
       "      <td>as1</td>\n",
       "      <td>movie</td>\n",
       "      <td>the grand seduction</td>\n",
       "      <td>don mckellar</td>\n",
       "      <td>brendan gleeson, taylor kitsch, gordon pinsent</td>\n",
       "      <td>canada</td>\n",
       "      <td>2021-03-30</td>\n",
       "      <td>2014</td>\n",
       "      <td>g</td>\n",
       "      <td>113</td>\n",
       "      <td>min</td>\n",
       "      <td>comedy, drama</td>\n",
       "      <td>a small fishing village must procure a local d...</td>\n",
       "      <td>amazon</td>\n",
       "      <td>3.47</td>\n",
       "    </tr>\n",
       "    <tr>\n",
       "      <th>1</th>\n",
       "      <td>as2</td>\n",
       "      <td>movie</td>\n",
       "      <td>take care good night</td>\n",
       "      <td>girish joshi</td>\n",
       "      <td>mahesh manjrekar, abhay mahajan, sachin khedekar</td>\n",
       "      <td>india</td>\n",
       "      <td>2021-03-30</td>\n",
       "      <td>2018</td>\n",
       "      <td>13+</td>\n",
       "      <td>110</td>\n",
       "      <td>min</td>\n",
       "      <td>drama, international</td>\n",
       "      <td>a metro family decides to fight a cyber crimin...</td>\n",
       "      <td>amazon</td>\n",
       "      <td>3.55</td>\n",
       "    </tr>\n",
       "  </tbody>\n",
       "</table>\n",
       "</div>"
      ],
      "text/plain": [
       "    id   type                 title      director  \\\n",
       "0  as1  movie   the grand seduction  don mckellar   \n",
       "1  as2  movie  take care good night  girish joshi   \n",
       "\n",
       "                                               cast country  date_added  \\\n",
       "0    brendan gleeson, taylor kitsch, gordon pinsent  canada  2021-03-30   \n",
       "1  mahesh manjrekar, abhay mahajan, sachin khedekar   india  2021-03-30   \n",
       "\n",
       "   release_year rating  duration_int duration_type             listed_in  \\\n",
       "0          2014      g           113           min         comedy, drama   \n",
       "1          2018    13+           110           min  drama, international   \n",
       "\n",
       "                                         description platform  score  \n",
       "0  a small fishing village must procure a local d...   amazon   3.47  \n",
       "1  a metro family decides to fight a cyber crimin...   amazon   3.55  "
      ]
     },
     "execution_count": 3,
     "metadata": {},
     "output_type": "execute_result"
    }
   ],
   "source": [
    "df_t.head(2)"
   ]
  },
  {
   "cell_type": "code",
   "execution_count": 4,
   "metadata": {},
   "outputs": [],
   "source": [
    "df_s = df_data_scores  = pd.read_csv('datasets/full_scores.csv')"
   ]
  },
  {
   "cell_type": "code",
   "execution_count": 5,
   "metadata": {},
   "outputs": [
    {
     "data": {
      "text/html": [
       "<div>\n",
       "<style scoped>\n",
       "    .dataframe tbody tr th:only-of-type {\n",
       "        vertical-align: middle;\n",
       "    }\n",
       "\n",
       "    .dataframe tbody tr th {\n",
       "        vertical-align: top;\n",
       "    }\n",
       "\n",
       "    .dataframe thead th {\n",
       "        text-align: right;\n",
       "    }\n",
       "</style>\n",
       "<table border=\"1\" class=\"dataframe\">\n",
       "  <thead>\n",
       "    <tr style=\"text-align: right;\">\n",
       "      <th></th>\n",
       "      <th>userId</th>\n",
       "      <th>score</th>\n",
       "      <th>timestamp</th>\n",
       "      <th>movieId</th>\n",
       "    </tr>\n",
       "  </thead>\n",
       "  <tbody>\n",
       "    <tr>\n",
       "      <th>0</th>\n",
       "      <td>1</td>\n",
       "      <td>1.0</td>\n",
       "      <td>2015-03-09</td>\n",
       "      <td>as680</td>\n",
       "    </tr>\n",
       "    <tr>\n",
       "      <th>1</th>\n",
       "      <td>1</td>\n",
       "      <td>4.5</td>\n",
       "      <td>2015-03-09</td>\n",
       "      <td>ns2186</td>\n",
       "    </tr>\n",
       "  </tbody>\n",
       "</table>\n",
       "</div>"
      ],
      "text/plain": [
       "   userId  score   timestamp movieId\n",
       "0       1    1.0  2015-03-09   as680\n",
       "1       1    4.5  2015-03-09  ns2186"
      ]
     },
     "execution_count": 5,
     "metadata": {},
     "output_type": "execute_result"
    }
   ],
   "source": [
    "df_s.head(2)"
   ]
  },
  {
   "cell_type": "code",
   "execution_count": 6,
   "metadata": {},
   "outputs": [],
   "source": [
    "# Renombrando las columnas 'listed_in' y 'id'\n",
    "df_t = df_t.rename(columns={'listed_in': 'gender'})\n",
    "\n",
    "df_t = df_t.rename(columns={'id': 'movieId'})\n"
   ]
  },
  {
   "cell_type": "code",
   "execution_count": 7,
   "metadata": {},
   "outputs": [
    {
     "data": {
      "text/html": [
       "<div>\n",
       "<style scoped>\n",
       "    .dataframe tbody tr th:only-of-type {\n",
       "        vertical-align: middle;\n",
       "    }\n",
       "\n",
       "    .dataframe tbody tr th {\n",
       "        vertical-align: top;\n",
       "    }\n",
       "\n",
       "    .dataframe thead th {\n",
       "        text-align: right;\n",
       "    }\n",
       "</style>\n",
       "<table border=\"1\" class=\"dataframe\">\n",
       "  <thead>\n",
       "    <tr style=\"text-align: right;\">\n",
       "      <th></th>\n",
       "      <th>movieId</th>\n",
       "      <th>title</th>\n",
       "      <th>gender</th>\n",
       "      <th>platform</th>\n",
       "    </tr>\n",
       "  </thead>\n",
       "  <tbody>\n",
       "    <tr>\n",
       "      <th>0</th>\n",
       "      <td>as1</td>\n",
       "      <td>the grand seduction</td>\n",
       "      <td>comedy, drama</td>\n",
       "      <td>amazon</td>\n",
       "    </tr>\n",
       "    <tr>\n",
       "      <th>1</th>\n",
       "      <td>as2</td>\n",
       "      <td>take care good night</td>\n",
       "      <td>drama, international</td>\n",
       "      <td>amazon</td>\n",
       "    </tr>\n",
       "    <tr>\n",
       "      <th>2</th>\n",
       "      <td>as3</td>\n",
       "      <td>secrets of deception</td>\n",
       "      <td>action, drama, suspense</td>\n",
       "      <td>amazon</td>\n",
       "    </tr>\n",
       "    <tr>\n",
       "      <th>3</th>\n",
       "      <td>as4</td>\n",
       "      <td>pink: staying true</td>\n",
       "      <td>documentary</td>\n",
       "      <td>amazon</td>\n",
       "    </tr>\n",
       "    <tr>\n",
       "      <th>4</th>\n",
       "      <td>as5</td>\n",
       "      <td>monster maker</td>\n",
       "      <td>drama, fantasy</td>\n",
       "      <td>amazon</td>\n",
       "    </tr>\n",
       "  </tbody>\n",
       "</table>\n",
       "</div>"
      ],
      "text/plain": [
       "  movieId                 title                   gender platform\n",
       "0     as1   the grand seduction            comedy, drama   amazon\n",
       "1     as2  take care good night     drama, international   amazon\n",
       "2     as3  secrets of deception  action, drama, suspense   amazon\n",
       "3     as4    pink: staying true              documentary   amazon\n",
       "4     as5         monster maker           drama, fantasy   amazon"
      ]
     },
     "execution_count": 7,
     "metadata": {},
     "output_type": "execute_result"
    }
   ],
   "source": [
    "# Generando nuevamente el df_t con las columnas de interés\n",
    "df_t = df_t[['movieId', 'title', 'gender', 'platform',]]\n",
    "\n",
    "# Reestablenciendo los índices\n",
    "df_t = df_t.reset_index(drop=True)\n",
    "\n",
    "df_t.head()"
   ]
  },
  {
   "attachments": {},
   "cell_type": "markdown",
   "metadata": {},
   "source": [
    "**Preparando el modelo**"
   ]
  },
  {
   "cell_type": "code",
   "execution_count": 8,
   "metadata": {},
   "outputs": [],
   "source": [
    "# Limitando el dataset a N_filas\n",
    "N_filas = 100000 \n",
    "\n",
    "# Creando un objeto Reader que interpreta los datos de calificación en una escala de 1 a 5.\n",
    "reader = Reader(rating_scale=(1, 5))\n",
    "\n",
    "# Conviertiendo el DataFrame en un formato que puede ser procesado por el modelo.\n",
    "data = Dataset.load_from_df(df_s[['userId', 'movieId', 'score']][:N_filas], reader)\n",
    "\n"
   ]
  },
  {
   "cell_type": "code",
   "execution_count": 9,
   "metadata": {},
   "outputs": [],
   "source": [
    "# Separando los datos en train y test\n",
    "train, test = train_test_split(data, test_size=0.25)"
   ]
  },
  {
   "cell_type": "code",
   "execution_count": 10,
   "metadata": {},
   "outputs": [
    {
     "data": {
      "text/plain": [
       "<surprise.prediction_algorithms.matrix_factorization.SVD at 0x28c166c3520>"
      ]
     },
     "execution_count": 10,
     "metadata": {},
     "output_type": "execute_result"
    }
   ],
   "source": [
    "# Entrenando el modelo SVD\n",
    "\n",
    "model = SVD()\n",
    "\n",
    "model.fit(train)"
   ]
  },
  {
   "cell_type": "code",
   "execution_count": 11,
   "metadata": {},
   "outputs": [],
   "source": [
    "# Prediciendo con el modelo\n",
    "\n",
    "predictions = model.test(test)\n"
   ]
  },
  {
   "cell_type": "code",
   "execution_count": 12,
   "metadata": {},
   "outputs": [
    {
     "data": {
      "text/plain": [
       "Prediction(uid=463, iid='ds1146', r_ui=3.0, est=2.8452671822303524, details={'was_impossible': False})"
      ]
     },
     "execution_count": 12,
     "metadata": {},
     "output_type": "execute_result"
    }
   ],
   "source": [
    "# Probando el modelo de predicción\n",
    "predictions[5]"
   ]
  },
  {
   "cell_type": "code",
   "execution_count": 13,
   "metadata": {},
   "outputs": [
    {
     "data": {
      "text/plain": [
       "Prediction(uid=8, iid='hs12', r_ui=None, est=3.3823620795244995, details={'was_impossible': False})"
      ]
     },
     "execution_count": 13,
     "metadata": {},
     "output_type": "execute_result"
    }
   ],
   "source": [
    "# Probando el modelo de predicción con datos al azar\n",
    "\n",
    "model.predict(8,'hs12')\n"
   ]
  },
  {
   "attachments": {},
   "cell_type": "markdown",
   "metadata": {},
   "source": [
    "**Predicción para un usuario (seleccionado al azar)**"
   ]
  },
  {
   "cell_type": "code",
   "execution_count": 14,
   "metadata": {},
   "outputs": [
    {
     "data": {
      "text/html": [
       "<div>\n",
       "<style scoped>\n",
       "    .dataframe tbody tr th:only-of-type {\n",
       "        vertical-align: middle;\n",
       "    }\n",
       "\n",
       "    .dataframe tbody tr th {\n",
       "        vertical-align: top;\n",
       "    }\n",
       "\n",
       "    .dataframe thead th {\n",
       "        text-align: right;\n",
       "    }\n",
       "</style>\n",
       "<table border=\"1\" class=\"dataframe\">\n",
       "  <thead>\n",
       "    <tr style=\"text-align: right;\">\n",
       "      <th></th>\n",
       "      <th>userId</th>\n",
       "      <th>score</th>\n",
       "      <th>timestamp</th>\n",
       "      <th>movieId</th>\n",
       "      <th>title</th>\n",
       "    </tr>\n",
       "  </thead>\n",
       "  <tbody>\n",
       "    <tr>\n",
       "      <th>0</th>\n",
       "      <td>112655</td>\n",
       "      <td>4.0</td>\n",
       "      <td>2009-11-28</td>\n",
       "      <td>as8333</td>\n",
       "      <td>cinderella</td>\n",
       "    </tr>\n",
       "    <tr>\n",
       "      <th>1</th>\n",
       "      <td>112655</td>\n",
       "      <td>4.0</td>\n",
       "      <td>2010-04-24</td>\n",
       "      <td>hs2181</td>\n",
       "      <td>declared</td>\n",
       "    </tr>\n",
       "    <tr>\n",
       "      <th>2</th>\n",
       "      <td>112655</td>\n",
       "      <td>4.5</td>\n",
       "      <td>2011-01-26</td>\n",
       "      <td>as552</td>\n",
       "      <td>the lucy show - vol. 2</td>\n",
       "    </tr>\n",
       "    <tr>\n",
       "      <th>3</th>\n",
       "      <td>112655</td>\n",
       "      <td>4.5</td>\n",
       "      <td>2009-11-28</td>\n",
       "      <td>as8894</td>\n",
       "      <td>something like a business</td>\n",
       "    </tr>\n",
       "    <tr>\n",
       "      <th>4</th>\n",
       "      <td>112655</td>\n",
       "      <td>4.5</td>\n",
       "      <td>2009-08-11</td>\n",
       "      <td>as7834</td>\n",
       "      <td>these old broads</td>\n",
       "    </tr>\n",
       "    <tr>\n",
       "      <th>...</th>\n",
       "      <td>...</td>\n",
       "      <td>...</td>\n",
       "      <td>...</td>\n",
       "      <td>...</td>\n",
       "      <td>...</td>\n",
       "    </tr>\n",
       "    <tr>\n",
       "      <th>98</th>\n",
       "      <td>112655</td>\n",
       "      <td>4.5</td>\n",
       "      <td>2011-01-26</td>\n",
       "      <td>as4305</td>\n",
       "      <td>we were children</td>\n",
       "    </tr>\n",
       "    <tr>\n",
       "      <th>99</th>\n",
       "      <td>112655</td>\n",
       "      <td>5.0</td>\n",
       "      <td>2010-09-04</td>\n",
       "      <td>hs1810</td>\n",
       "      <td>toilet-bound hanako-kun</td>\n",
       "    </tr>\n",
       "    <tr>\n",
       "      <th>100</th>\n",
       "      <td>112655</td>\n",
       "      <td>4.0</td>\n",
       "      <td>2011-01-26</td>\n",
       "      <td>ns4010</td>\n",
       "      <td>jeff dunham: minding the monsters</td>\n",
       "    </tr>\n",
       "    <tr>\n",
       "      <th>101</th>\n",
       "      <td>112655</td>\n",
       "      <td>4.5</td>\n",
       "      <td>2011-02-22</td>\n",
       "      <td>ns7689</td>\n",
       "      <td>p se pm tak</td>\n",
       "    </tr>\n",
       "    <tr>\n",
       "      <th>102</th>\n",
       "      <td>112655</td>\n",
       "      <td>4.0</td>\n",
       "      <td>2011-01-26</td>\n",
       "      <td>ns5049</td>\n",
       "      <td>coach snoop</td>\n",
       "    </tr>\n",
       "  </tbody>\n",
       "</table>\n",
       "<p>103 rows × 5 columns</p>\n",
       "</div>"
      ],
      "text/plain": [
       "     userId  score   timestamp movieId                              title\n",
       "0    112655    4.0  2009-11-28  as8333                         cinderella\n",
       "1    112655    4.0  2010-04-24  hs2181                           declared\n",
       "2    112655    4.5  2011-01-26   as552             the lucy show - vol. 2\n",
       "3    112655    4.5  2009-11-28  as8894          something like a business\n",
       "4    112655    4.5  2009-08-11  as7834                   these old broads\n",
       "..      ...    ...         ...     ...                                ...\n",
       "98   112655    4.5  2011-01-26  as4305                   we were children\n",
       "99   112655    5.0  2010-09-04  hs1810            toilet-bound hanako-kun\n",
       "100  112655    4.0  2011-01-26  ns4010  jeff dunham: minding the monsters\n",
       "101  112655    4.5  2011-02-22  ns7689                        p se pm tak\n",
       "102  112655    4.0  2011-01-26  ns5049                        coach snoop\n",
       "\n",
       "[103 rows x 5 columns]"
      ]
     },
     "execution_count": 14,
     "metadata": {},
     "output_type": "execute_result"
    }
   ],
   "source": [
    "# Prediciendo en forma completa con un usuario al azar y recomendando\n",
    "user  = 112655 \n",
    "rating = 4   # Tomamos películas a las que haya calificado con 4 o 5 estrellas\n",
    "df_user = df_s[(df_s.userId == user) & (df_s.score >= rating)]\n",
    "df_user = df_user.reset_index(drop=True)\n",
    "\n",
    "df_user = pd.merge(df_user, df_t[['movieId', 'title']], left_on='movieId', right_on='movieId', how='left')\n",
    "\n",
    "df_user"
   ]
  },
  {
   "cell_type": "code",
   "execution_count": 15,
   "metadata": {},
   "outputs": [
    {
     "name": "stdout",
     "output_type": "stream",
     "text": [
      "(22998, 4)\n"
     ]
    },
    {
     "data": {
      "text/html": [
       "<div>\n",
       "<style scoped>\n",
       "    .dataframe tbody tr th:only-of-type {\n",
       "        vertical-align: middle;\n",
       "    }\n",
       "\n",
       "    .dataframe tbody tr th {\n",
       "        vertical-align: top;\n",
       "    }\n",
       "\n",
       "    .dataframe thead th {\n",
       "        text-align: right;\n",
       "    }\n",
       "</style>\n",
       "<table border=\"1\" class=\"dataframe\">\n",
       "  <thead>\n",
       "    <tr style=\"text-align: right;\">\n",
       "      <th></th>\n",
       "      <th>movieId</th>\n",
       "      <th>title</th>\n",
       "      <th>gender</th>\n",
       "      <th>platform</th>\n",
       "    </tr>\n",
       "  </thead>\n",
       "  <tbody>\n",
       "    <tr>\n",
       "      <th>0</th>\n",
       "      <td>as1</td>\n",
       "      <td>the grand seduction</td>\n",
       "      <td>comedy, drama</td>\n",
       "      <td>amazon</td>\n",
       "    </tr>\n",
       "    <tr>\n",
       "      <th>1</th>\n",
       "      <td>as2</td>\n",
       "      <td>take care good night</td>\n",
       "      <td>drama, international</td>\n",
       "      <td>amazon</td>\n",
       "    </tr>\n",
       "    <tr>\n",
       "      <th>2</th>\n",
       "      <td>as3</td>\n",
       "      <td>secrets of deception</td>\n",
       "      <td>action, drama, suspense</td>\n",
       "      <td>amazon</td>\n",
       "    </tr>\n",
       "    <tr>\n",
       "      <th>3</th>\n",
       "      <td>as4</td>\n",
       "      <td>pink: staying true</td>\n",
       "      <td>documentary</td>\n",
       "      <td>amazon</td>\n",
       "    </tr>\n",
       "    <tr>\n",
       "      <th>4</th>\n",
       "      <td>as5</td>\n",
       "      <td>monster maker</td>\n",
       "      <td>drama, fantasy</td>\n",
       "      <td>amazon</td>\n",
       "    </tr>\n",
       "  </tbody>\n",
       "</table>\n",
       "</div>"
      ],
      "text/plain": [
       "  movieId                 title                   gender platform\n",
       "0     as1   the grand seduction            comedy, drama   amazon\n",
       "1     as2  take care good night     drama, international   amazon\n",
       "2     as3  secrets of deception  action, drama, suspense   amazon\n",
       "3     as4    pink: staying true              documentary   amazon\n",
       "4     as5         monster maker           drama, fantasy   amazon"
      ]
     },
     "execution_count": 15,
     "metadata": {},
     "output_type": "execute_result"
    }
   ],
   "source": [
    "recommend_user = df_t.iloc[:23000].copy()\n",
    "print(recommend_user.shape)\n",
    "recommend_user.head()"
   ]
  },
  {
   "cell_type": "code",
   "execution_count": 16,
   "metadata": {},
   "outputs": [
    {
     "name": "stdout",
     "output_type": "stream",
     "text": [
      "(162, 4)\n"
     ]
    },
    {
     "data": {
      "text/html": [
       "<div>\n",
       "<style scoped>\n",
       "    .dataframe tbody tr th:only-of-type {\n",
       "        vertical-align: middle;\n",
       "    }\n",
       "\n",
       "    .dataframe tbody tr th {\n",
       "        vertical-align: top;\n",
       "    }\n",
       "\n",
       "    .dataframe thead th {\n",
       "        text-align: right;\n",
       "    }\n",
       "</style>\n",
       "<table border=\"1\" class=\"dataframe\">\n",
       "  <thead>\n",
       "    <tr style=\"text-align: right;\">\n",
       "      <th></th>\n",
       "      <th>userId</th>\n",
       "      <th>score</th>\n",
       "      <th>timestamp</th>\n",
       "      <th>movieId</th>\n",
       "    </tr>\n",
       "  </thead>\n",
       "  <tbody>\n",
       "    <tr>\n",
       "      <th>9923315</th>\n",
       "      <td>112655</td>\n",
       "      <td>3.0</td>\n",
       "      <td>2009-08-11</td>\n",
       "      <td>ns8181</td>\n",
       "    </tr>\n",
       "    <tr>\n",
       "      <th>9923316</th>\n",
       "      <td>112655</td>\n",
       "      <td>4.0</td>\n",
       "      <td>2009-11-28</td>\n",
       "      <td>as8333</td>\n",
       "    </tr>\n",
       "    <tr>\n",
       "      <th>9923317</th>\n",
       "      <td>112655</td>\n",
       "      <td>4.0</td>\n",
       "      <td>2010-04-24</td>\n",
       "      <td>hs2181</td>\n",
       "    </tr>\n",
       "    <tr>\n",
       "      <th>9923318</th>\n",
       "      <td>112655</td>\n",
       "      <td>4.5</td>\n",
       "      <td>2011-01-26</td>\n",
       "      <td>as552</td>\n",
       "    </tr>\n",
       "    <tr>\n",
       "      <th>9923319</th>\n",
       "      <td>112655</td>\n",
       "      <td>4.5</td>\n",
       "      <td>2009-11-28</td>\n",
       "      <td>as8894</td>\n",
       "    </tr>\n",
       "  </tbody>\n",
       "</table>\n",
       "</div>"
      ],
      "text/plain": [
       "         userId  score   timestamp movieId\n",
       "9923315  112655    3.0  2009-08-11  ns8181\n",
       "9923316  112655    4.0  2009-11-28  as8333\n",
       "9923317  112655    4.0  2010-04-24  hs2181\n",
       "9923318  112655    4.5  2011-01-26   as552\n",
       "9923319  112655    4.5  2009-11-28  as8894"
      ]
     },
     "execution_count": 16,
     "metadata": {},
     "output_type": "execute_result"
    }
   ],
   "source": [
    "# Extrayendo los títulos que el usuario ya ha visto\n",
    "\n",
    "viewed_by_user = df_s[df_s['userId'] == user]\n",
    "print(viewed_by_user.shape)\n",
    "viewed_by_user.head()"
   ]
  },
  {
   "cell_type": "code",
   "execution_count": 17,
   "metadata": {},
   "outputs": [
    {
     "data": {
      "text/plain": [
       "(22836, 4)"
      ]
     },
     "execution_count": 17,
     "metadata": {},
     "output_type": "execute_result"
    }
   ],
   "source": [
    "# Eliminando los títulos ya vistos por el usuario\n",
    "\n",
    "recommend_user = recommend_user[~recommend_user['movieId'].isin(viewed_by_user['movieId'])]\n",
    "\n",
    "recommend_user.shape"
   ]
  },
  {
   "cell_type": "code",
   "execution_count": 18,
   "metadata": {},
   "outputs": [],
   "source": [
    "# Efectuando la recomendación\n",
    "\n",
    "recommend_user['Estimate_Score'] = recommend_user['movieId'].apply(lambda x: model.predict(user, x).est)\n"
   ]
  },
  {
   "cell_type": "code",
   "execution_count": 29,
   "metadata": {},
   "outputs": [
    {
     "data": {
      "text/html": [
       "<div>\n",
       "<style scoped>\n",
       "    .dataframe tbody tr th:only-of-type {\n",
       "        vertical-align: middle;\n",
       "    }\n",
       "\n",
       "    .dataframe tbody tr th {\n",
       "        vertical-align: top;\n",
       "    }\n",
       "\n",
       "    .dataframe thead th {\n",
       "        text-align: right;\n",
       "    }\n",
       "</style>\n",
       "<table border=\"1\" class=\"dataframe\">\n",
       "  <thead>\n",
       "    <tr style=\"text-align: right;\">\n",
       "      <th></th>\n",
       "      <th>movieId</th>\n",
       "      <th>title</th>\n",
       "      <th>gender</th>\n",
       "      <th>platform</th>\n",
       "      <th>Estimate_Score</th>\n",
       "    </tr>\n",
       "  </thead>\n",
       "  <tbody>\n",
       "    <tr>\n",
       "      <th>12852</th>\n",
       "      <td>hs1735</td>\n",
       "      <td>jesus camp</td>\n",
       "      <td>documentaries</td>\n",
       "      <td>hulu</td>\n",
       "      <td>4.013338</td>\n",
       "    </tr>\n",
       "    <tr>\n",
       "      <th>11296</th>\n",
       "      <td>hs179</td>\n",
       "      <td>the simpsons</td>\n",
       "      <td>adult animation, comedy, sitcom</td>\n",
       "      <td>hulu</td>\n",
       "      <td>3.996909</td>\n",
       "    </tr>\n",
       "    <tr>\n",
       "      <th>14549</th>\n",
       "      <td>ns359</td>\n",
       "      <td>the net</td>\n",
       "      <td>thrillers</td>\n",
       "      <td>netflix</td>\n",
       "      <td>3.965745</td>\n",
       "    </tr>\n",
       "    <tr>\n",
       "      <th>10359</th>\n",
       "      <td>ds692</td>\n",
       "      <td>henry hugglemonster</td>\n",
       "      <td>animation, fantasy, kids</td>\n",
       "      <td>disney</td>\n",
       "      <td>3.960712</td>\n",
       "    </tr>\n",
       "    <tr>\n",
       "      <th>19031</th>\n",
       "      <td>ns4841</td>\n",
       "      <td>bad genius</td>\n",
       "      <td>dramas, international movies, thrillers</td>\n",
       "      <td>netflix</td>\n",
       "      <td>3.953876</td>\n",
       "    </tr>\n",
       "  </tbody>\n",
       "</table>\n",
       "</div>"
      ],
      "text/plain": [
       "      movieId                title                                   gender  \\\n",
       "12852  hs1735           jesus camp                            documentaries   \n",
       "11296   hs179         the simpsons          adult animation, comedy, sitcom   \n",
       "14549   ns359              the net                                thrillers   \n",
       "10359   ds692  henry hugglemonster                 animation, fantasy, kids   \n",
       "19031  ns4841           bad genius  dramas, international movies, thrillers   \n",
       "\n",
       "      platform  Estimate_Score  \n",
       "12852     hulu        4.013338  \n",
       "11296     hulu        3.996909  \n",
       "14549  netflix        3.965745  \n",
       "10359   disney        3.960712  \n",
       "19031  netflix        3.953876  "
      ]
     },
     "execution_count": 29,
     "metadata": {},
     "output_type": "execute_result"
    }
   ],
   "source": [
    "recommend_user = recommend_user.sort_values('Estimate_Score', ascending=False)\n",
    "\n",
    "recommend_user.head(5)"
   ]
  },
  {
   "attachments": {},
   "cell_type": "markdown",
   "metadata": {},
   "source": [
    "**Predicción para un usuario (seleccionado al azar) y un título (seleccionado al azar)**"
   ]
  },
  {
   "cell_type": "code",
   "execution_count": 24,
   "metadata": {},
   "outputs": [],
   "source": [
    "def movie_recommend(userId, movieId):\n",
    "    # Prediciendo la calificación otorgada por el usuario al título seleccionado\n",
    "    prediction = model.predict(userId, str(movieId))\n",
    "\n",
    "    # Si el resultado de la predicción mayor o igual a 3.5, se recomienda el título\n",
    "    if prediction.est >= 3.5:\n",
    "        return \"Recomendada\", prediction.est\n",
    "    else:\n",
    "        return \"No recomendada\", prediction.est"
   ]
  },
  {
   "cell_type": "code",
   "execution_count": 25,
   "metadata": {},
   "outputs": [
    {
     "name": "stdout",
     "output_type": "stream",
     "text": [
      "La película es: ('No recomendada', 3.0466503223513737)\n"
     ]
    }
   ],
   "source": [
    "# Probando la función\n",
    "\n",
    "# id usuario\n",
    "user_id = 8\n",
    "# id película\n",
    "movie_id = 'as8'\n",
    "\n",
    "recommend = movie_recommend(user_id, movie_id)\n",
    "\n",
    "print(\"La película es:\", recommend)\n"
   ]
  },
  {
   "attachments": {},
   "cell_type": "markdown",
   "metadata": {},
   "source": [
    "**Evaluación y Optimización del Modelo**"
   ]
  },
  {
   "cell_type": "code",
   "execution_count": 26,
   "metadata": {},
   "outputs": [
    {
     "name": "stdout",
     "output_type": "stream",
     "text": [
      "RMSE: 0.9516\n"
     ]
    },
    {
     "data": {
      "text/plain": [
       "0.9516229138745846"
      ]
     },
     "execution_count": 26,
     "metadata": {},
     "output_type": "execute_result"
    }
   ],
   "source": [
    "# Evaluando el modelo\n",
    "from surprise import accuracy\n",
    "\n",
    "accuracy.rmse(predictions)"
   ]
  },
  {
   "cell_type": "code",
   "execution_count": 27,
   "metadata": {},
   "outputs": [
    {
     "name": "stdout",
     "output_type": "stream",
     "text": [
      "1\n",
      "Evaluating RMSE of algorithm SVD on 3 split(s).\n",
      "\n",
      "                  Fold 1  Fold 2  Fold 3  Mean    Std     \n",
      "RMSE (testset)    0.9459  0.9523  0.9506  0.9496  0.0027  \n",
      "Fit time          0.44    0.40    0.40    0.41    0.02    \n",
      "Test time         0.27    0.17    0.18    0.21    0.04    \n",
      "2\n",
      "Evaluating RMSE of algorithm SVD on 3 split(s).\n",
      "\n",
      "                  Fold 1  Fold 2  Fold 3  Mean    Std     \n",
      "RMSE (testset)    0.9435  0.9484  0.9546  0.9488  0.0046  \n",
      "Fit time          0.39    0.40    0.40    0.40    0.01    \n",
      "Test time         0.28    0.28    0.19    0.25    0.04    \n",
      "4\n",
      "Evaluating RMSE of algorithm SVD on 3 split(s).\n",
      "\n",
      "                  Fold 1  Fold 2  Fold 3  Mean    Std     \n",
      "RMSE (testset)    0.9524  0.9499  0.9470  0.9497  0.0022  \n",
      "Fit time          0.40    0.41    0.42    0.41    0.01    \n",
      "Test time         0.18    0.28    0.28    0.24    0.05    \n",
      "8\n",
      "Evaluating RMSE of algorithm SVD on 3 split(s).\n",
      "\n",
      "                  Fold 1  Fold 2  Fold 3  Mean    Std     \n",
      "RMSE (testset)    0.9543  0.9484  0.9475  0.9501  0.0031  \n",
      "Fit time          0.47    0.48    0.45    0.47    0.01    \n",
      "Test time         0.18    0.19    0.19    0.19    0.00    \n",
      "16\n",
      "Evaluating RMSE of algorithm SVD on 3 split(s).\n",
      "\n",
      "                  Fold 1  Fold 2  Fold 3  Mean    Std     \n",
      "RMSE (testset)    0.9526  0.9547  0.9479  0.9517  0.0029  \n",
      "Fit time          0.53    0.55    0.64    0.57    0.05    \n",
      "Test time         0.27    0.29    0.23    0.27    0.03    \n",
      "32\n",
      "Evaluating RMSE of algorithm SVD on 3 split(s).\n",
      "\n",
      "                  Fold 1  Fold 2  Fold 3  Mean    Std     \n",
      "RMSE (testset)    0.9508  0.9582  0.9505  0.9532  0.0035  \n",
      "Fit time          0.69    0.73    0.69    0.71    0.02    \n",
      "Test time         0.20    0.33    0.30    0.27    0.06    \n",
      "64\n",
      "Evaluating RMSE of algorithm SVD on 3 split(s).\n",
      "\n",
      "                  Fold 1  Fold 2  Fold 3  Mean    Std     \n",
      "RMSE (testset)    0.9566  0.9579  0.9518  0.9555  0.0026  \n",
      "Fit time          0.95    0.92    0.86    0.91    0.04    \n",
      "Test time         0.18    0.20    0.28    0.22    0.04    \n",
      "128\n",
      "Evaluating RMSE of algorithm SVD on 3 split(s).\n",
      "\n",
      "                  Fold 1  Fold 2  Fold 3  Mean    Std     \n",
      "RMSE (testset)    0.9600  0.9632  0.9590  0.9607  0.0018  \n",
      "Fit time          1.23    1.44    2.27    1.65    0.45    \n",
      "Test time         0.32    0.40    1.09    0.60    0.35    \n"
     ]
    }
   ],
   "source": [
    "# Optimizando el modelo \n",
    "from surprise.model_selection import cross_validate\n",
    "import numpy as np\n",
    "\n",
    "rmse_test_means = []\n",
    "factores = [1,2,4,8,16,32,64,128]\n",
    "\n",
    "for factor in factores:\n",
    "    print(factor)\n",
    "    model = SVD(n_factors=factor)\n",
    "    cv = cross_validate(model, data, measures=['RMSE'], cv = 3, verbose=True)\n",
    "    rmse_test_means.append(np.mean(cv['test_rmse']))"
   ]
  },
  {
   "attachments": {},
   "cell_type": "markdown",
   "metadata": {},
   "source": [
    "**GRADIO. Interfaz gráfica para el modelo**"
   ]
  },
  {
   "cell_type": "code",
   "execution_count": null,
   "metadata": {},
   "outputs": [],
   "source": []
  }
 ],
 "metadata": {
  "kernelspec": {
   "display_name": "Python 3",
   "language": "python",
   "name": "python3"
  },
  "language_info": {
   "codemirror_mode": {
    "name": "ipython",
    "version": 3
   },
   "file_extension": ".py",
   "mimetype": "text/x-python",
   "name": "python",
   "nbconvert_exporter": "python",
   "pygments_lexer": "ipython3",
   "version": "3.10.8"
  },
  "orig_nbformat": 4
 },
 "nbformat": 4,
 "nbformat_minor": 2
}
