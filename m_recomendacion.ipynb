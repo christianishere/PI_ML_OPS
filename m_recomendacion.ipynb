{
 "cells": [
  {
   "attachments": {},
   "cell_type": "markdown",
   "metadata": {},
   "source": [
    "# **Modelo de Recomendación**"
   ]
  },
  {
   "cell_type": "code",
   "execution_count": 7,
   "metadata": {},
   "outputs": [],
   "source": [
    "# Importando librerías necesarias\n",
    "import pandas as pd\n",
    "import matplotlib as plt\n",
    "\n",
    "%matplotlib inline\n",
    "\n",
    "# Utlizaremos el modelo SVD\n",
    "from surprise import Dataset, Reader, SVD\n",
    "from surprise.model_selection import train_test_split\n",
    "from surprise import accuracy"
   ]
  },
  {
   "cell_type": "code",
   "execution_count": 8,
   "metadata": {},
   "outputs": [],
   "source": [
    "# Generando los df\n",
    "df_t = pd.read_csv('datasets/full_titles.csv')\n",
    "\n"
   ]
  },
  {
   "cell_type": "code",
   "execution_count": 9,
   "metadata": {},
   "outputs": [
    {
     "data": {
      "text/html": [
       "<div>\n",
       "<style scoped>\n",
       "    .dataframe tbody tr th:only-of-type {\n",
       "        vertical-align: middle;\n",
       "    }\n",
       "\n",
       "    .dataframe tbody tr th {\n",
       "        vertical-align: top;\n",
       "    }\n",
       "\n",
       "    .dataframe thead th {\n",
       "        text-align: right;\n",
       "    }\n",
       "</style>\n",
       "<table border=\"1\" class=\"dataframe\">\n",
       "  <thead>\n",
       "    <tr style=\"text-align: right;\">\n",
       "      <th></th>\n",
       "      <th>id</th>\n",
       "      <th>type</th>\n",
       "      <th>title</th>\n",
       "      <th>director</th>\n",
       "      <th>cast</th>\n",
       "      <th>country</th>\n",
       "      <th>date_added</th>\n",
       "      <th>release_year</th>\n",
       "      <th>rating</th>\n",
       "      <th>duration_int</th>\n",
       "      <th>duration_type</th>\n",
       "      <th>listed_in</th>\n",
       "      <th>description</th>\n",
       "      <th>platform</th>\n",
       "      <th>score</th>\n",
       "    </tr>\n",
       "  </thead>\n",
       "  <tbody>\n",
       "    <tr>\n",
       "      <th>0</th>\n",
       "      <td>as1</td>\n",
       "      <td>movie</td>\n",
       "      <td>the grand seduction</td>\n",
       "      <td>don mckellar</td>\n",
       "      <td>brendan gleeson, taylor kitsch, gordon pinsent</td>\n",
       "      <td>canada</td>\n",
       "      <td>2021-03-30</td>\n",
       "      <td>2014</td>\n",
       "      <td>g</td>\n",
       "      <td>113</td>\n",
       "      <td>min</td>\n",
       "      <td>comedy, drama</td>\n",
       "      <td>a small fishing village must procure a local d...</td>\n",
       "      <td>amazon</td>\n",
       "      <td>3.47</td>\n",
       "    </tr>\n",
       "    <tr>\n",
       "      <th>1</th>\n",
       "      <td>as2</td>\n",
       "      <td>movie</td>\n",
       "      <td>take care good night</td>\n",
       "      <td>girish joshi</td>\n",
       "      <td>mahesh manjrekar, abhay mahajan, sachin khedekar</td>\n",
       "      <td>india</td>\n",
       "      <td>2021-03-30</td>\n",
       "      <td>2018</td>\n",
       "      <td>13+</td>\n",
       "      <td>110</td>\n",
       "      <td>min</td>\n",
       "      <td>drama, international</td>\n",
       "      <td>a metro family decides to fight a cyber crimin...</td>\n",
       "      <td>amazon</td>\n",
       "      <td>3.55</td>\n",
       "    </tr>\n",
       "  </tbody>\n",
       "</table>\n",
       "</div>"
      ],
      "text/plain": [
       "    id   type                 title      director  \\\n",
       "0  as1  movie   the grand seduction  don mckellar   \n",
       "1  as2  movie  take care good night  girish joshi   \n",
       "\n",
       "                                               cast country  date_added  \\\n",
       "0    brendan gleeson, taylor kitsch, gordon pinsent  canada  2021-03-30   \n",
       "1  mahesh manjrekar, abhay mahajan, sachin khedekar   india  2021-03-30   \n",
       "\n",
       "   release_year rating  duration_int duration_type             listed_in  \\\n",
       "0          2014      g           113           min         comedy, drama   \n",
       "1          2018    13+           110           min  drama, international   \n",
       "\n",
       "                                         description platform  score  \n",
       "0  a small fishing village must procure a local d...   amazon   3.47  \n",
       "1  a metro family decides to fight a cyber crimin...   amazon   3.55  "
      ]
     },
     "execution_count": 9,
     "metadata": {},
     "output_type": "execute_result"
    }
   ],
   "source": [
    "df_t.head(2)"
   ]
  },
  {
   "cell_type": "code",
   "execution_count": 10,
   "metadata": {},
   "outputs": [],
   "source": [
    "df_s = df_data_scores  = pd.read_csv('datasets/full_scores.csv')"
   ]
  },
  {
   "cell_type": "code",
   "execution_count": 11,
   "metadata": {},
   "outputs": [
    {
     "data": {
      "text/html": [
       "<div>\n",
       "<style scoped>\n",
       "    .dataframe tbody tr th:only-of-type {\n",
       "        vertical-align: middle;\n",
       "    }\n",
       "\n",
       "    .dataframe tbody tr th {\n",
       "        vertical-align: top;\n",
       "    }\n",
       "\n",
       "    .dataframe thead th {\n",
       "        text-align: right;\n",
       "    }\n",
       "</style>\n",
       "<table border=\"1\" class=\"dataframe\">\n",
       "  <thead>\n",
       "    <tr style=\"text-align: right;\">\n",
       "      <th></th>\n",
       "      <th>userId</th>\n",
       "      <th>score</th>\n",
       "      <th>timestamp</th>\n",
       "      <th>movieId</th>\n",
       "    </tr>\n",
       "  </thead>\n",
       "  <tbody>\n",
       "    <tr>\n",
       "      <th>0</th>\n",
       "      <td>1</td>\n",
       "      <td>1.0</td>\n",
       "      <td>2015-03-09</td>\n",
       "      <td>as680</td>\n",
       "    </tr>\n",
       "    <tr>\n",
       "      <th>1</th>\n",
       "      <td>1</td>\n",
       "      <td>4.5</td>\n",
       "      <td>2015-03-09</td>\n",
       "      <td>ns2186</td>\n",
       "    </tr>\n",
       "  </tbody>\n",
       "</table>\n",
       "</div>"
      ],
      "text/plain": [
       "   userId  score   timestamp movieId\n",
       "0       1    1.0  2015-03-09   as680\n",
       "1       1    4.5  2015-03-09  ns2186"
      ]
     },
     "execution_count": 11,
     "metadata": {},
     "output_type": "execute_result"
    }
   ],
   "source": [
    "df_s.head(2)"
   ]
  },
  {
   "cell_type": "code",
   "execution_count": 12,
   "metadata": {},
   "outputs": [],
   "source": [
    "# Renombrando las columnas 'listed_in' y 'id'\n",
    "df_t = df_t.rename(columns={'listed_in': 'gender'})\n",
    "\n",
    "df_t = df_t.rename(columns={'id': 'movieId'})\n"
   ]
  },
  {
   "cell_type": "code",
   "execution_count": 13,
   "metadata": {},
   "outputs": [
    {
     "data": {
      "text/html": [
       "<div>\n",
       "<style scoped>\n",
       "    .dataframe tbody tr th:only-of-type {\n",
       "        vertical-align: middle;\n",
       "    }\n",
       "\n",
       "    .dataframe tbody tr th {\n",
       "        vertical-align: top;\n",
       "    }\n",
       "\n",
       "    .dataframe thead th {\n",
       "        text-align: right;\n",
       "    }\n",
       "</style>\n",
       "<table border=\"1\" class=\"dataframe\">\n",
       "  <thead>\n",
       "    <tr style=\"text-align: right;\">\n",
       "      <th></th>\n",
       "      <th>movieId</th>\n",
       "      <th>title</th>\n",
       "      <th>gender</th>\n",
       "      <th>platform</th>\n",
       "    </tr>\n",
       "  </thead>\n",
       "  <tbody>\n",
       "    <tr>\n",
       "      <th>0</th>\n",
       "      <td>as1</td>\n",
       "      <td>the grand seduction</td>\n",
       "      <td>comedy, drama</td>\n",
       "      <td>amazon</td>\n",
       "    </tr>\n",
       "    <tr>\n",
       "      <th>1</th>\n",
       "      <td>as2</td>\n",
       "      <td>take care good night</td>\n",
       "      <td>drama, international</td>\n",
       "      <td>amazon</td>\n",
       "    </tr>\n",
       "    <tr>\n",
       "      <th>2</th>\n",
       "      <td>as3</td>\n",
       "      <td>secrets of deception</td>\n",
       "      <td>action, drama, suspense</td>\n",
       "      <td>amazon</td>\n",
       "    </tr>\n",
       "    <tr>\n",
       "      <th>3</th>\n",
       "      <td>as4</td>\n",
       "      <td>pink: staying true</td>\n",
       "      <td>documentary</td>\n",
       "      <td>amazon</td>\n",
       "    </tr>\n",
       "    <tr>\n",
       "      <th>4</th>\n",
       "      <td>as5</td>\n",
       "      <td>monster maker</td>\n",
       "      <td>drama, fantasy</td>\n",
       "      <td>amazon</td>\n",
       "    </tr>\n",
       "  </tbody>\n",
       "</table>\n",
       "</div>"
      ],
      "text/plain": [
       "  movieId                 title                   gender platform\n",
       "0     as1   the grand seduction            comedy, drama   amazon\n",
       "1     as2  take care good night     drama, international   amazon\n",
       "2     as3  secrets of deception  action, drama, suspense   amazon\n",
       "3     as4    pink: staying true              documentary   amazon\n",
       "4     as5         monster maker           drama, fantasy   amazon"
      ]
     },
     "execution_count": 13,
     "metadata": {},
     "output_type": "execute_result"
    }
   ],
   "source": [
    "# Generando nuevamente el df_t con las columnas de interés\n",
    "df_t = df_t[['movieId', 'title', 'gender', 'platform',]]\n",
    "\n",
    "# Reestablenciendo los índices\n",
    "df_t = df_t.reset_index(drop=True)\n",
    "\n",
    "df_t.head()"
   ]
  },
  {
   "attachments": {},
   "cell_type": "markdown",
   "metadata": {},
   "source": [
    "**Preparando el modelo**"
   ]
  },
  {
   "cell_type": "code",
   "execution_count": 14,
   "metadata": {},
   "outputs": [],
   "source": [
    "# Limitando el dataset a N_filas\n",
    "N_filas = 100000 \n",
    "\n",
    "# Creando un objeto Reader que interpreta los datos de calificación en una escala de 1 a 5.\n",
    "reader = Reader(rating_scale=(1, 5))\n",
    "\n",
    "# Conviertiendo el DataFrame en un formato que puede ser procesado por el modelo.\n",
    "data = Dataset.load_from_df(df_s[['userId', 'movieId', 'score']][:N_filas], reader)\n",
    "\n"
   ]
  },
  {
   "cell_type": "code",
   "execution_count": 15,
   "metadata": {},
   "outputs": [],
   "source": [
    "# Separando los datos en train y test\n",
    "train, test = train_test_split(data, test_size=0.25)"
   ]
  },
  {
   "cell_type": "code",
   "execution_count": 16,
   "metadata": {},
   "outputs": [
    {
     "data": {
      "text/plain": [
       "<surprise.prediction_algorithms.matrix_factorization.SVD at 0x1cf22fd7d00>"
      ]
     },
     "execution_count": 16,
     "metadata": {},
     "output_type": "execute_result"
    }
   ],
   "source": [
    "# Entrenando el modelo SVD\n",
    "\n",
    "model = SVD()\n",
    "\n",
    "model.fit(train)"
   ]
  },
  {
   "cell_type": "code",
   "execution_count": 17,
   "metadata": {},
   "outputs": [],
   "source": [
    "# Prediciendo con el modelo\n",
    "\n",
    "predictions = model.test(test)\n"
   ]
  },
  {
   "cell_type": "code",
   "execution_count": 18,
   "metadata": {},
   "outputs": [
    {
     "data": {
      "text/plain": [
       "Prediction(uid=201, iid='ns7143', r_ui=2.0, est=3.6448485973964995, details={'was_impossible': False})"
      ]
     },
     "execution_count": 18,
     "metadata": {},
     "output_type": "execute_result"
    }
   ],
   "source": [
    "# Probando el modelo de predicción\n",
    "predictions[5]"
   ]
  },
  {
   "cell_type": "code",
   "execution_count": 19,
   "metadata": {},
   "outputs": [
    {
     "data": {
      "text/plain": [
       "Prediction(uid=8, iid='hs12', r_ui=None, est=3.169038841347522, details={'was_impossible': False})"
      ]
     },
     "execution_count": 19,
     "metadata": {},
     "output_type": "execute_result"
    }
   ],
   "source": [
    "# Probando el modelo de predicción con datos al azar\n",
    "\n",
    "model.predict(8,'hs12')\n"
   ]
  },
  {
   "attachments": {},
   "cell_type": "markdown",
   "metadata": {},
   "source": [
    "**Predicción para un usuario (seleccionado al azar)**"
   ]
  },
  {
   "cell_type": "code",
   "execution_count": 20,
   "metadata": {},
   "outputs": [
    {
     "data": {
      "text/html": [
       "<div>\n",
       "<style scoped>\n",
       "    .dataframe tbody tr th:only-of-type {\n",
       "        vertical-align: middle;\n",
       "    }\n",
       "\n",
       "    .dataframe tbody tr th {\n",
       "        vertical-align: top;\n",
       "    }\n",
       "\n",
       "    .dataframe thead th {\n",
       "        text-align: right;\n",
       "    }\n",
       "</style>\n",
       "<table border=\"1\" class=\"dataframe\">\n",
       "  <thead>\n",
       "    <tr style=\"text-align: right;\">\n",
       "      <th></th>\n",
       "      <th>userId</th>\n",
       "      <th>score</th>\n",
       "      <th>timestamp</th>\n",
       "      <th>movieId</th>\n",
       "      <th>title</th>\n",
       "    </tr>\n",
       "  </thead>\n",
       "  <tbody>\n",
       "    <tr>\n",
       "      <th>0</th>\n",
       "      <td>112655</td>\n",
       "      <td>4.0</td>\n",
       "      <td>2009-11-28</td>\n",
       "      <td>as8333</td>\n",
       "      <td>cinderella</td>\n",
       "    </tr>\n",
       "    <tr>\n",
       "      <th>1</th>\n",
       "      <td>112655</td>\n",
       "      <td>4.0</td>\n",
       "      <td>2010-04-24</td>\n",
       "      <td>hs2181</td>\n",
       "      <td>declared</td>\n",
       "    </tr>\n",
       "    <tr>\n",
       "      <th>2</th>\n",
       "      <td>112655</td>\n",
       "      <td>4.5</td>\n",
       "      <td>2011-01-26</td>\n",
       "      <td>as552</td>\n",
       "      <td>the lucy show - vol. 2</td>\n",
       "    </tr>\n",
       "    <tr>\n",
       "      <th>3</th>\n",
       "      <td>112655</td>\n",
       "      <td>4.5</td>\n",
       "      <td>2009-11-28</td>\n",
       "      <td>as8894</td>\n",
       "      <td>something like a business</td>\n",
       "    </tr>\n",
       "    <tr>\n",
       "      <th>4</th>\n",
       "      <td>112655</td>\n",
       "      <td>4.5</td>\n",
       "      <td>2009-08-11</td>\n",
       "      <td>as7834</td>\n",
       "      <td>these old broads</td>\n",
       "    </tr>\n",
       "    <tr>\n",
       "      <th>...</th>\n",
       "      <td>...</td>\n",
       "      <td>...</td>\n",
       "      <td>...</td>\n",
       "      <td>...</td>\n",
       "      <td>...</td>\n",
       "    </tr>\n",
       "    <tr>\n",
       "      <th>98</th>\n",
       "      <td>112655</td>\n",
       "      <td>4.5</td>\n",
       "      <td>2011-01-26</td>\n",
       "      <td>as4305</td>\n",
       "      <td>we were children</td>\n",
       "    </tr>\n",
       "    <tr>\n",
       "      <th>99</th>\n",
       "      <td>112655</td>\n",
       "      <td>5.0</td>\n",
       "      <td>2010-09-04</td>\n",
       "      <td>hs1810</td>\n",
       "      <td>toilet-bound hanako-kun</td>\n",
       "    </tr>\n",
       "    <tr>\n",
       "      <th>100</th>\n",
       "      <td>112655</td>\n",
       "      <td>4.0</td>\n",
       "      <td>2011-01-26</td>\n",
       "      <td>ns4010</td>\n",
       "      <td>jeff dunham: minding the monsters</td>\n",
       "    </tr>\n",
       "    <tr>\n",
       "      <th>101</th>\n",
       "      <td>112655</td>\n",
       "      <td>4.5</td>\n",
       "      <td>2011-02-22</td>\n",
       "      <td>ns7689</td>\n",
       "      <td>p se pm tak</td>\n",
       "    </tr>\n",
       "    <tr>\n",
       "      <th>102</th>\n",
       "      <td>112655</td>\n",
       "      <td>4.0</td>\n",
       "      <td>2011-01-26</td>\n",
       "      <td>ns5049</td>\n",
       "      <td>coach snoop</td>\n",
       "    </tr>\n",
       "  </tbody>\n",
       "</table>\n",
       "<p>103 rows × 5 columns</p>\n",
       "</div>"
      ],
      "text/plain": [
       "     userId  score   timestamp movieId                              title\n",
       "0    112655    4.0  2009-11-28  as8333                         cinderella\n",
       "1    112655    4.0  2010-04-24  hs2181                           declared\n",
       "2    112655    4.5  2011-01-26   as552             the lucy show - vol. 2\n",
       "3    112655    4.5  2009-11-28  as8894          something like a business\n",
       "4    112655    4.5  2009-08-11  as7834                   these old broads\n",
       "..      ...    ...         ...     ...                                ...\n",
       "98   112655    4.5  2011-01-26  as4305                   we were children\n",
       "99   112655    5.0  2010-09-04  hs1810            toilet-bound hanako-kun\n",
       "100  112655    4.0  2011-01-26  ns4010  jeff dunham: minding the monsters\n",
       "101  112655    4.5  2011-02-22  ns7689                        p se pm tak\n",
       "102  112655    4.0  2011-01-26  ns5049                        coach snoop\n",
       "\n",
       "[103 rows x 5 columns]"
      ]
     },
     "execution_count": 20,
     "metadata": {},
     "output_type": "execute_result"
    }
   ],
   "source": [
    "# Prediciendo en forma completa con un usuario al azar y recomendando\n",
    "user  = 112655 \n",
    "rating = 4   # Tomamos películas a las que haya calificado con 4 o 5 estrellas\n",
    "df_user = df_s[(df_s.userId == user) & (df_s.score >= rating)]\n",
    "df_user = df_user.reset_index(drop=True)\n",
    "\n",
    "df_user = pd.merge(df_user, df_t[['movieId', 'title']], left_on='movieId', right_on='movieId', how='left')\n",
    "\n",
    "df_user"
   ]
  },
  {
   "cell_type": "code",
   "execution_count": 21,
   "metadata": {},
   "outputs": [
    {
     "name": "stdout",
     "output_type": "stream",
     "text": [
      "(22998, 4)\n"
     ]
    },
    {
     "data": {
      "text/html": [
       "<div>\n",
       "<style scoped>\n",
       "    .dataframe tbody tr th:only-of-type {\n",
       "        vertical-align: middle;\n",
       "    }\n",
       "\n",
       "    .dataframe tbody tr th {\n",
       "        vertical-align: top;\n",
       "    }\n",
       "\n",
       "    .dataframe thead th {\n",
       "        text-align: right;\n",
       "    }\n",
       "</style>\n",
       "<table border=\"1\" class=\"dataframe\">\n",
       "  <thead>\n",
       "    <tr style=\"text-align: right;\">\n",
       "      <th></th>\n",
       "      <th>movieId</th>\n",
       "      <th>title</th>\n",
       "      <th>gender</th>\n",
       "      <th>platform</th>\n",
       "    </tr>\n",
       "  </thead>\n",
       "  <tbody>\n",
       "    <tr>\n",
       "      <th>0</th>\n",
       "      <td>as1</td>\n",
       "      <td>the grand seduction</td>\n",
       "      <td>comedy, drama</td>\n",
       "      <td>amazon</td>\n",
       "    </tr>\n",
       "    <tr>\n",
       "      <th>1</th>\n",
       "      <td>as2</td>\n",
       "      <td>take care good night</td>\n",
       "      <td>drama, international</td>\n",
       "      <td>amazon</td>\n",
       "    </tr>\n",
       "    <tr>\n",
       "      <th>2</th>\n",
       "      <td>as3</td>\n",
       "      <td>secrets of deception</td>\n",
       "      <td>action, drama, suspense</td>\n",
       "      <td>amazon</td>\n",
       "    </tr>\n",
       "    <tr>\n",
       "      <th>3</th>\n",
       "      <td>as4</td>\n",
       "      <td>pink: staying true</td>\n",
       "      <td>documentary</td>\n",
       "      <td>amazon</td>\n",
       "    </tr>\n",
       "    <tr>\n",
       "      <th>4</th>\n",
       "      <td>as5</td>\n",
       "      <td>monster maker</td>\n",
       "      <td>drama, fantasy</td>\n",
       "      <td>amazon</td>\n",
       "    </tr>\n",
       "  </tbody>\n",
       "</table>\n",
       "</div>"
      ],
      "text/plain": [
       "  movieId                 title                   gender platform\n",
       "0     as1   the grand seduction            comedy, drama   amazon\n",
       "1     as2  take care good night     drama, international   amazon\n",
       "2     as3  secrets of deception  action, drama, suspense   amazon\n",
       "3     as4    pink: staying true              documentary   amazon\n",
       "4     as5         monster maker           drama, fantasy   amazon"
      ]
     },
     "execution_count": 21,
     "metadata": {},
     "output_type": "execute_result"
    }
   ],
   "source": [
    "recommend_user = df_t.iloc[:23000].copy()\n",
    "print(recommend_user.shape)\n",
    "recommend_user.head()"
   ]
  },
  {
   "cell_type": "code",
   "execution_count": 22,
   "metadata": {},
   "outputs": [
    {
     "name": "stdout",
     "output_type": "stream",
     "text": [
      "(162, 4)\n"
     ]
    },
    {
     "data": {
      "text/html": [
       "<div>\n",
       "<style scoped>\n",
       "    .dataframe tbody tr th:only-of-type {\n",
       "        vertical-align: middle;\n",
       "    }\n",
       "\n",
       "    .dataframe tbody tr th {\n",
       "        vertical-align: top;\n",
       "    }\n",
       "\n",
       "    .dataframe thead th {\n",
       "        text-align: right;\n",
       "    }\n",
       "</style>\n",
       "<table border=\"1\" class=\"dataframe\">\n",
       "  <thead>\n",
       "    <tr style=\"text-align: right;\">\n",
       "      <th></th>\n",
       "      <th>userId</th>\n",
       "      <th>score</th>\n",
       "      <th>timestamp</th>\n",
       "      <th>movieId</th>\n",
       "    </tr>\n",
       "  </thead>\n",
       "  <tbody>\n",
       "    <tr>\n",
       "      <th>9913839</th>\n",
       "      <td>112655</td>\n",
       "      <td>3.0</td>\n",
       "      <td>2009-08-11</td>\n",
       "      <td>ns8181</td>\n",
       "    </tr>\n",
       "    <tr>\n",
       "      <th>9913840</th>\n",
       "      <td>112655</td>\n",
       "      <td>4.0</td>\n",
       "      <td>2009-11-28</td>\n",
       "      <td>as8333</td>\n",
       "    </tr>\n",
       "    <tr>\n",
       "      <th>9913841</th>\n",
       "      <td>112655</td>\n",
       "      <td>4.0</td>\n",
       "      <td>2010-04-24</td>\n",
       "      <td>hs2181</td>\n",
       "    </tr>\n",
       "    <tr>\n",
       "      <th>9913842</th>\n",
       "      <td>112655</td>\n",
       "      <td>4.5</td>\n",
       "      <td>2011-01-26</td>\n",
       "      <td>as552</td>\n",
       "    </tr>\n",
       "    <tr>\n",
       "      <th>9913843</th>\n",
       "      <td>112655</td>\n",
       "      <td>4.5</td>\n",
       "      <td>2009-11-28</td>\n",
       "      <td>as8894</td>\n",
       "    </tr>\n",
       "  </tbody>\n",
       "</table>\n",
       "</div>"
      ],
      "text/plain": [
       "         userId  score   timestamp movieId\n",
       "9913839  112655    3.0  2009-08-11  ns8181\n",
       "9913840  112655    4.0  2009-11-28  as8333\n",
       "9913841  112655    4.0  2010-04-24  hs2181\n",
       "9913842  112655    4.5  2011-01-26   as552\n",
       "9913843  112655    4.5  2009-11-28  as8894"
      ]
     },
     "execution_count": 22,
     "metadata": {},
     "output_type": "execute_result"
    }
   ],
   "source": [
    "# Extrayendo los títulos que el usuario ya ha visto\n",
    "\n",
    "viewed_by_user = df_s[df_s['userId'] == user]\n",
    "print(viewed_by_user.shape)\n",
    "viewed_by_user.head()"
   ]
  },
  {
   "cell_type": "code",
   "execution_count": 23,
   "metadata": {},
   "outputs": [
    {
     "data": {
      "text/plain": [
       "(22836, 4)"
      ]
     },
     "execution_count": 23,
     "metadata": {},
     "output_type": "execute_result"
    }
   ],
   "source": [
    "# Eliminando los títulos ya vistos por el usuario\n",
    "\n",
    "recommend_user = recommend_user[~recommend_user['movieId'].isin(viewed_by_user['movieId'])]\n",
    "\n",
    "recommend_user.shape"
   ]
  },
  {
   "cell_type": "code",
   "execution_count": 24,
   "metadata": {},
   "outputs": [],
   "source": [
    "# Efectuando la recomendación\n",
    "\n",
    "recommend_user['Estimate_Score'] = recommend_user['movieId'].apply(lambda x: model.predict(user, x).est)\n"
   ]
  },
  {
   "cell_type": "code",
   "execution_count": 25,
   "metadata": {},
   "outputs": [
    {
     "data": {
      "text/html": [
       "<div>\n",
       "<style scoped>\n",
       "    .dataframe tbody tr th:only-of-type {\n",
       "        vertical-align: middle;\n",
       "    }\n",
       "\n",
       "    .dataframe tbody tr th {\n",
       "        vertical-align: top;\n",
       "    }\n",
       "\n",
       "    .dataframe thead th {\n",
       "        text-align: right;\n",
       "    }\n",
       "</style>\n",
       "<table border=\"1\" class=\"dataframe\">\n",
       "  <thead>\n",
       "    <tr style=\"text-align: right;\">\n",
       "      <th></th>\n",
       "      <th>movieId</th>\n",
       "      <th>title</th>\n",
       "      <th>gender</th>\n",
       "      <th>platform</th>\n",
       "      <th>Estimate_Score</th>\n",
       "    </tr>\n",
       "  </thead>\n",
       "  <tbody>\n",
       "    <tr>\n",
       "      <th>8231</th>\n",
       "      <td>as8232</td>\n",
       "      <td>the wheel of time</td>\n",
       "      <td>adventure, drama, fantasy</td>\n",
       "      <td>amazon</td>\n",
       "      <td>3.991992</td>\n",
       "    </tr>\n",
       "    <tr>\n",
       "      <th>9391</th>\n",
       "      <td>as9392</td>\n",
       "      <td>vallanzasca angel of evil</td>\n",
       "      <td>action, drama</td>\n",
       "      <td>amazon</td>\n",
       "      <td>3.980652</td>\n",
       "    </tr>\n",
       "    <tr>\n",
       "      <th>2005</th>\n",
       "      <td>as2006</td>\n",
       "      <td>jonas kaufmann - a global star in private</td>\n",
       "      <td>documentary</td>\n",
       "      <td>amazon</td>\n",
       "      <td>3.978767</td>\n",
       "    </tr>\n",
       "    <tr>\n",
       "      <th>12852</th>\n",
       "      <td>hs1735</td>\n",
       "      <td>jesus camp</td>\n",
       "      <td>documentaries</td>\n",
       "      <td>hulu</td>\n",
       "      <td>3.976820</td>\n",
       "    </tr>\n",
       "    <tr>\n",
       "      <th>16984</th>\n",
       "      <td>ns2794</td>\n",
       "      <td>the english game</td>\n",
       "      <td>british tv shows, international tv shows, tv d...</td>\n",
       "      <td>netflix</td>\n",
       "      <td>3.964080</td>\n",
       "    </tr>\n",
       "  </tbody>\n",
       "</table>\n",
       "</div>"
      ],
      "text/plain": [
       "      movieId                                      title  \\\n",
       "8231   as8232                          the wheel of time   \n",
       "9391   as9392                  vallanzasca angel of evil   \n",
       "2005   as2006  jonas kaufmann - a global star in private   \n",
       "12852  hs1735                                 jesus camp   \n",
       "16984  ns2794                           the english game   \n",
       "\n",
       "                                                  gender platform  \\\n",
       "8231                           adventure, drama, fantasy   amazon   \n",
       "9391                                       action, drama   amazon   \n",
       "2005                                         documentary   amazon   \n",
       "12852                                      documentaries     hulu   \n",
       "16984  british tv shows, international tv shows, tv d...  netflix   \n",
       "\n",
       "       Estimate_Score  \n",
       "8231         3.991992  \n",
       "9391         3.980652  \n",
       "2005         3.978767  \n",
       "12852        3.976820  \n",
       "16984        3.964080  "
      ]
     },
     "execution_count": 25,
     "metadata": {},
     "output_type": "execute_result"
    }
   ],
   "source": [
    "recommend_user = recommend_user.sort_values('Estimate_Score', ascending=False)\n",
    "\n",
    "recommend_user.head(5)"
   ]
  },
  {
   "attachments": {},
   "cell_type": "markdown",
   "metadata": {},
   "source": [
    "**Predicción para un usuario (seleccionado al azar) y un título (seleccionado al azar)**"
   ]
  },
  {
   "cell_type": "code",
   "execution_count": 34,
   "metadata": {},
   "outputs": [],
   "source": [
    "def movie_recommend(userId, movieId):\n",
    "    # Prediciendo la calificación otorgada por el usuario al título seleccionado\n",
    "    prediction = model.predict(userId, str(movieId))\n",
    "\n",
    "    # Si el resultado de la predicción mayor o igual a 3.5, se recomienda el título\n",
    "    if prediction.est >= 3.5:\n",
    "        return \"Recomendada\", prediction.est\n",
    "    else:\n",
    "        return \"No Recomendada\", prediction.est"
   ]
  },
  {
   "cell_type": "code",
   "execution_count": 35,
   "metadata": {},
   "outputs": [
    {
     "name": "stdout",
     "output_type": "stream",
     "text": [
      "La película es: ('No Recomendada', 3.083196501699244)\n"
     ]
    }
   ],
   "source": [
    "# Probando la función\n",
    "\n",
    "# id usuario\n",
    "user_id = 8\n",
    "# id película\n",
    "movie_id = 'as8'\n",
    "\n",
    "recommend = movie_recommend(user_id, movie_id)\n",
    "\n",
    "print(\"La película es:\", recommend)\n"
   ]
  },
  {
   "attachments": {},
   "cell_type": "markdown",
   "metadata": {},
   "source": [
    "**Evaluación y Optimización del Modelo**"
   ]
  },
  {
   "cell_type": "code",
   "execution_count": 36,
   "metadata": {},
   "outputs": [
    {
     "name": "stdout",
     "output_type": "stream",
     "text": [
      "RMSE: 0.9663\n"
     ]
    },
    {
     "data": {
      "text/plain": [
       "0.966276276961709"
      ]
     },
     "execution_count": 36,
     "metadata": {},
     "output_type": "execute_result"
    }
   ],
   "source": [
    "# Evaluando el modelo\n",
    "from surprise import accuracy\n",
    "\n",
    "accuracy.rmse(predictions)"
   ]
  },
  {
   "cell_type": "code",
   "execution_count": 37,
   "metadata": {},
   "outputs": [
    {
     "name": "stdout",
     "output_type": "stream",
     "text": [
      "1\n",
      "Evaluating RMSE of algorithm SVD on 3 split(s).\n",
      "\n",
      "                  Fold 1  Fold 2  Fold 3  Mean    Std     \n",
      "RMSE (testset)    0.9505  0.9497  0.9471  0.9491  0.0014  \n",
      "Fit time          0.90    0.68    0.52    0.70    0.16    \n",
      "Test time         0.46    0.31    0.40    0.39    0.06    \n",
      "2\n",
      "Evaluating RMSE of algorithm SVD on 3 split(s).\n",
      "\n",
      "                  Fold 1  Fold 2  Fold 3  Mean    Std     \n",
      "RMSE (testset)    0.9511  0.9494  0.9493  0.9499  0.0008  \n",
      "Fit time          0.53    0.66    0.76    0.65    0.10    \n",
      "Test time         0.53    0.30    0.33    0.39    0.10    \n",
      "4\n",
      "Evaluating RMSE of algorithm SVD on 3 split(s).\n",
      "\n",
      "                  Fold 1  Fold 2  Fold 3  Mean    Std     \n",
      "RMSE (testset)    0.9499  0.9513  0.9481  0.9498  0.0013  \n",
      "Fit time          0.78    0.60    0.68    0.69    0.08    \n",
      "Test time         0.54    0.27    0.33    0.38    0.12    \n",
      "8\n",
      "Evaluating RMSE of algorithm SVD on 3 split(s).\n",
      "\n",
      "                  Fold 1  Fold 2  Fold 3  Mean    Std     \n",
      "RMSE (testset)    0.9588  0.9492  0.9425  0.9502  0.0067  \n",
      "Fit time          0.81    0.73    0.64    0.73    0.07    \n",
      "Test time         0.56    0.45    0.40    0.47    0.07    \n",
      "16\n",
      "Evaluating RMSE of algorithm SVD on 3 split(s).\n",
      "\n",
      "                  Fold 1  Fold 2  Fold 3  Mean    Std     \n",
      "RMSE (testset)    0.9500  0.9567  0.9502  0.9523  0.0031  \n",
      "Fit time          0.70    0.72    0.72    0.71    0.01    \n",
      "Test time         0.30    0.37    0.30    0.33    0.03    \n",
      "32\n",
      "Evaluating RMSE of algorithm SVD on 3 split(s).\n",
      "\n",
      "                  Fold 1  Fold 2  Fold 3  Mean    Std     \n",
      "RMSE (testset)    0.9554  0.9533  0.9531  0.9539  0.0011  \n",
      "Fit time          0.98    1.09    1.06    1.04    0.05    \n",
      "Test time         0.41    0.55    0.52    0.49    0.06    \n",
      "64\n",
      "Evaluating RMSE of algorithm SVD on 3 split(s).\n",
      "\n",
      "                  Fold 1  Fold 2  Fold 3  Mean    Std     \n",
      "RMSE (testset)    0.9556  0.9563  0.9559  0.9559  0.0003  \n",
      "Fit time          1.45    1.26    1.41    1.37    0.08    \n",
      "Test time         0.35    0.31    0.49    0.38    0.07    \n",
      "128\n",
      "Evaluating RMSE of algorithm SVD on 3 split(s).\n",
      "\n",
      "                  Fold 1  Fold 2  Fold 3  Mean    Std     \n",
      "RMSE (testset)    0.9629  0.9616  0.9616  0.9620  0.0006  \n",
      "Fit time          1.65    1.87    1.94    1.82    0.13    \n",
      "Test time         0.34    0.38    0.51    0.41    0.07    \n"
     ]
    }
   ],
   "source": [
    "# Optimizando el modelo \n",
    "from surprise.model_selection import cross_validate\n",
    "import numpy as np\n",
    "\n",
    "rmse_test_means = []\n",
    "factores = [1,2,4,8,16,32,64,128]\n",
    "\n",
    "for factor in factores:\n",
    "    print(factor)\n",
    "    model = SVD(n_factors=factor)\n",
    "    cv = cross_validate(model, data, measures=['RMSE'], cv = 3, verbose=True)\n",
    "    rmse_test_means.append(np.mean(cv['test_rmse']))"
   ]
  },
  {
   "attachments": {},
   "cell_type": "markdown",
   "metadata": {},
   "source": [
    "**GRADIO. Interfaz gráfica para el modelo**"
   ]
  },
  {
   "cell_type": "code",
   "execution_count": 38,
   "metadata": {},
   "outputs": [],
   "source": [
    "# Creando una función para extraer el titulo de la película o serie\n",
    "def get_title(movieId):\n",
    "    return df_t[df_t.movieId == movieId].title.iloc[0].title()"
   ]
  },
  {
   "cell_type": "code",
   "execution_count": 39,
   "metadata": {},
   "outputs": [
    {
     "data": {
      "text/plain": [
       "'Miraculous: Tales Of Ladybug & Cat Noir'"
      ]
     },
     "execution_count": 39,
     "metadata": {},
     "output_type": "execute_result"
    }
   ],
   "source": [
    "# Probando la función creada\n",
    "get_title('ds108')\n"
   ]
  },
  {
   "cell_type": "code",
   "execution_count": 40,
   "metadata": {},
   "outputs": [],
   "source": [
    "# Fusionando la función  \"get_movie_recommendation\"  declarada anteriomente con la actual 'get_title' \n",
    "\n",
    "def title_recommended(userId, movieId):\n",
    "    recommended, score = movie_recommend(userId, movieId)\n",
    "    title = get_title(movieId)\n",
    "    return (recommended, score, title)"
   ]
  },
  {
   "cell_type": "code",
   "execution_count": 41,
   "metadata": {},
   "outputs": [
    {
     "data": {
      "text/plain": [
       "('No Recomendada',\n",
       " 2.8522571450131338,\n",
       " 'Miraculous: Tales Of Ladybug & Cat Noir')"
      ]
     },
     "execution_count": 41,
     "metadata": {},
     "output_type": "execute_result"
    }
   ],
   "source": [
    "# Probando la nueva función\n",
    "title_recommended(8, 'ds108')"
   ]
  },
  {
   "cell_type": "code",
   "execution_count": 43,
   "metadata": {},
   "outputs": [],
   "source": [
    "# Importando libreria Gradio para realizar la interface gráfica\n",
    "import gradio as gr"
   ]
  },
  {
   "cell_type": "code",
   "execution_count": 44,
   "metadata": {},
   "outputs": [
    {
     "name": "stderr",
     "output_type": "stream",
     "text": [
      "c:\\Users\\consul_05\\AppData\\Local\\Programs\\Python\\Python310\\lib\\site-packages\\gradio\\inputs.py:59: UserWarning: Usage of gradio.inputs is deprecated, and will not be supported in the future, please import your component from gradio.components\n",
      "  warnings.warn(\n",
      "c:\\Users\\consul_05\\AppData\\Local\\Programs\\Python\\Python310\\lib\\site-packages\\gradio\\deprecation.py:40: UserWarning: `optional` parameter is deprecated, and it has no effect\n",
      "  warnings.warn(value)\n"
     ]
    },
    {
     "name": "stdout",
     "output_type": "stream",
     "text": [
      "Running on local URL:  http://127.0.0.1:7860\n",
      "Running on public URL: https://4ea5ee6e9e9d42f2ed.gradio.live\n",
      "\n",
      "This share link expires in 72 hours. For free permanent hosting and GPU upgrades (NEW!), check out Spaces: https://huggingface.co/spaces\n"
     ]
    },
    {
     "data": {
      "text/html": [
       "<div><iframe src=\"https://4ea5ee6e9e9d42f2ed.gradio.live\" width=\"100%\" height=\"500\" allow=\"autoplay; camera; microphone; clipboard-read; clipboard-write;\" frameborder=\"0\" allowfullscreen></iframe></div>"
      ],
      "text/plain": [
       "<IPython.core.display.HTML object>"
      ]
     },
     "metadata": {},
     "output_type": "display_data"
    },
    {
     "data": {
      "text/plain": []
     },
     "execution_count": 44,
     "metadata": {},
     "output_type": "execute_result"
    },
    {
     "name": "stderr",
     "output_type": "stream",
     "text": [
      "Traceback (most recent call last):\n",
      "  File \"c:\\Users\\consul_05\\AppData\\Local\\Programs\\Python\\Python310\\lib\\site-packages\\gradio\\routes.py\", line 394, in run_predict\n",
      "    output = await app.get_blocks().process_api(\n",
      "  File \"c:\\Users\\consul_05\\AppData\\Local\\Programs\\Python\\Python310\\lib\\site-packages\\gradio\\blocks.py\", line 1075, in process_api\n",
      "    result = await self.call_function(\n",
      "  File \"c:\\Users\\consul_05\\AppData\\Local\\Programs\\Python\\Python310\\lib\\site-packages\\gradio\\blocks.py\", line 884, in call_function\n",
      "    prediction = await anyio.to_thread.run_sync(\n",
      "  File \"c:\\Users\\consul_05\\AppData\\Local\\Programs\\Python\\Python310\\lib\\site-packages\\anyio\\to_thread.py\", line 31, in run_sync\n",
      "    return await get_asynclib().run_sync_in_worker_thread(\n",
      "  File \"c:\\Users\\consul_05\\AppData\\Local\\Programs\\Python\\Python310\\lib\\site-packages\\anyio\\_backends\\_asyncio.py\", line 937, in run_sync_in_worker_thread\n",
      "    return await future\n",
      "  File \"c:\\Users\\consul_05\\AppData\\Local\\Programs\\Python\\Python310\\lib\\site-packages\\anyio\\_backends\\_asyncio.py\", line 867, in run\n",
      "    result = context.run(func, *args)\n",
      "  File \"C:\\Users\\consul_05\\AppData\\Local\\Temp\\ipykernel_448\\1204097031.py\", line 5, in title_recommended\n",
      "    title = get_title(movieId)\n",
      "  File \"C:\\Users\\consul_05\\AppData\\Local\\Temp\\ipykernel_448\\3780491676.py\", line 3, in get_title\n",
      "    return df_t[df_t.movieId == movieId].title.iloc[0].title()\n",
      "  File \"c:\\Users\\consul_05\\AppData\\Local\\Programs\\Python\\Python310\\lib\\site-packages\\pandas\\core\\indexing.py\", line 1073, in __getitem__\n",
      "    return self._getitem_axis(maybe_callable, axis=axis)\n",
      "  File \"c:\\Users\\consul_05\\AppData\\Local\\Programs\\Python\\Python310\\lib\\site-packages\\pandas\\core\\indexing.py\", line 1625, in _getitem_axis\n",
      "    self._validate_integer(key, axis)\n",
      "  File \"c:\\Users\\consul_05\\AppData\\Local\\Programs\\Python\\Python310\\lib\\site-packages\\pandas\\core\\indexing.py\", line 1557, in _validate_integer\n",
      "    raise IndexError(\"single positional indexer is out-of-bounds\")\n",
      "IndexError: single positional indexer is out-of-bounds\n"
     ]
    }
   ],
   "source": [
    "# Creando la interface\n",
    "\n",
    "title = str(\"Sistema de Recomendación de Series y Películas\")\n",
    "\n",
    "with gr.Blocks(title=title) as demo:\n",
    "    user_id = gr.inputs.Number(label='Id de Usuario')\n",
    "    movie = gr.Textbox(label='Id de Serie o Película')\n",
    "    recommendation  = gr.Button('Ver Recomendación')\n",
    "    title = gr.Textbox(label='Título')\n",
    "    output = gr.Textbox(label= '¿Recomendada?')\n",
    "    score = gr.Textbox(label='Ratio de Recomendación')\n",
    "    recommendation.click(fn = title_recommended, inputs=[user_id,movie], outputs=[output, score,title])\n",
    "    \n",
    "demo.launch(share = True)\n",
    "\n"
   ]
  }
 ],
 "metadata": {
  "kernelspec": {
   "display_name": "Python 3",
   "language": "python",
   "name": "python3"
  },
  "language_info": {
   "codemirror_mode": {
    "name": "ipython",
    "version": 3
   },
   "file_extension": ".py",
   "mimetype": "text/x-python",
   "name": "python",
   "nbconvert_exporter": "python",
   "pygments_lexer": "ipython3",
   "version": "3.10.8"
  },
  "orig_nbformat": 4
 },
 "nbformat": 4,
 "nbformat_minor": 2
}
